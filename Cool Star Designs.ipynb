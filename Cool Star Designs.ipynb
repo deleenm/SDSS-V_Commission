{
 "cells": [
  {
   "cell_type": "markdown",
   "id": "simple-wrestling",
   "metadata": {},
   "source": [
    "# This notebook is looking at the commissioning designs for Cool Stars\n",
    "These are detailed in an email sent out by Joe Burchett on 12/17/21 to the commissioning list.\n",
    "\n",
    "Data files for review can be found here: https://wiki.sdss.org/display/COM/Commissioning+design+review\n",
    "\n",
    " catalog of selected targets and designs from the query\n",
    "\n",
    "    *_targs_*.fits  \n",
    "\n",
    "A catalog of all targets in each design that contains targets meeting selection criteria\n",
    "\n",
    "    *_designDetail.fits  "
   ]
  },
  {
   "cell_type": "markdown",
   "id": "casual-apartment",
   "metadata": {},
   "source": [
    "## Notes\n",
    "\n",
    "12255 has 13 dwarfs (4 cool)\n",
    "12217 has 16 dwarfs (3 cool 1 very cool 3200K)\n",
    "12831 "
   ]
  },
  {
   "cell_type": "code",
   "execution_count": 1,
   "id": "eleven-mortality",
   "metadata": {},
   "outputs": [],
   "source": [
    "import numpy as np\n",
    "from matplotlib import pyplot as plt\n",
    "from astropy.table import Table\n",
    "from astropy import modeling\n",
    "import matplotlib\n",
    "%matplotlib inline "
   ]
  },
  {
   "cell_type": "code",
   "execution_count": 2,
   "id": "funky-publisher",
   "metadata": {},
   "outputs": [
    {
     "data": {
      "text/html": [
       "<i>Table length=12413</i>\n",
       "<table id=\"table139684731680336\" class=\"table-striped table-bordered table-condensed\">\n",
       "<thead><tr><th>design_id</th><th>field_id</th><th>racen</th><th>deccen</th><th>ra</th><th>dec</th><th>teff</th><th>feh</th><th>logg</th><th>j</th><th>h</th><th>k</th><th>label</th><th>program</th><th>carton</th><th>num_targs</th></tr></thead>\n",
       "<thead><tr><th>int64</th><th>int64</th><th>float64</th><th>float64</th><th>float64</th><th>float64</th><th>float64</th><th>float64</th><th>float64</th><th>float64</th><th>float64</th><th>float64</th><th>bytes6</th><th>bytes13</th><th>bytes25</th><th>int64</th></tr></thead>\n",
       "<tr><td>12987</td><td>19170</td><td>101.661685072784</td><td>68.8638559646908</td><td>103.08136935569146</td><td>67.90775515942933</td><td>4519.4497</td><td>0.19791844</td><td>nan</td><td>8.17</td><td>7.564</td><td>7.437</td><td>APOGEE</td><td>mwm_tessrgb</td><td>mwm_tessrgb_core</td><td>90</td></tr>\n",
       "<tr><td>12987</td><td>19170</td><td>101.661685072784</td><td>68.8638559646908</td><td>101.4354399470212</td><td>69.88223302200862</td><td>4962.4517</td><td>-0.47284156</td><td>nan</td><td>8.641</td><td>8.127</td><td>8.018</td><td>APOGEE</td><td>mwm_tessrgb</td><td>mwm_tessrgb_core</td><td>90</td></tr>\n",
       "<tr><td>12987</td><td>19170</td><td>101.661685072784</td><td>68.8638559646908</td><td>101.54839574517766</td><td>69.99176445744277</td><td>4399.1133</td><td>-0.54978156</td><td>nan</td><td>10.711</td><td>10.019</td><td>9.884</td><td>APOGEE</td><td>mwm_tessrgb</td><td>mwm_tessrgb_core</td><td>90</td></tr>\n",
       "<tr><td>12987</td><td>19170</td><td>101.661685072784</td><td>68.8638559646908</td><td>101.03022777989794</td><td>70.04260187546524</td><td>4498.814</td><td>-0.17318155</td><td>nan</td><td>10.293</td><td>9.669</td><td>9.534</td><td>APOGEE</td><td>mwm_tessrgb</td><td>mwm_tessrgb_core</td><td>90</td></tr>\n",
       "<tr><td>12987</td><td>19170</td><td>101.661685072784</td><td>68.8638559646908</td><td>103.68465685169474</td><td>67.80896514266378</td><td>4068.4392</td><td>-0.108281545</td><td>nan</td><td>9.343</td><td>8.606</td><td>8.433</td><td>APOGEE</td><td>mwm_tessrgb</td><td>mwm_tessrgb_core</td><td>90</td></tr>\n",
       "<tr><td>12987</td><td>19170</td><td>101.661685072784</td><td>68.8638559646908</td><td>103.05082934458275</td><td>68.48731030668691</td><td>4608.3994</td><td>0.38572568</td><td>nan</td><td>10.494</td><td>9.944</td><td>9.789</td><td>APOGEE</td><td>mwm_tessrgb</td><td>mwm_tessrgb_core</td><td>90</td></tr>\n",
       "<tr><td>12987</td><td>19170</td><td>101.661685072784</td><td>68.8638559646908</td><td>102.52357385315314</td><td>68.3115623584817</td><td>4698.328</td><td>-0.22667809</td><td>nan</td><td>9.837</td><td>9.259</td><td>9.127</td><td>APOGEE</td><td>mwm_tessrgb</td><td>mwm_tessrgb_core</td><td>90</td></tr>\n",
       "<tr><td>12987</td><td>19170</td><td>101.661685072784</td><td>68.8638559646908</td><td>101.16008181162343</td><td>67.69510578855704</td><td>4758.641</td><td>0.12014845</td><td>nan</td><td>9.56</td><td>9.02</td><td>8.888</td><td>APOGEE</td><td>mwm_tessrgb</td><td>mwm_tessrgb_core</td><td>90</td></tr>\n",
       "<tr><td>12987</td><td>19170</td><td>101.661685072784</td><td>68.8638559646908</td><td>100.83648553176863</td><td>67.60223208604896</td><td>4849.4937</td><td>-0.42747155</td><td>nan</td><td>10.411</td><td>9.82</td><td>9.746</td><td>APOGEE</td><td>mwm_tessrgb</td><td>mwm_tessrgb_core</td><td>90</td></tr>\n",
       "<tr><td>12987</td><td>19170</td><td>101.661685072784</td><td>68.8638559646908</td><td>102.40981236658557</td><td>67.78019140672369</td><td>4672.2197</td><td>-0.033423547</td><td>nan</td><td>10.686</td><td>10.107</td><td>10.018</td><td>APOGEE</td><td>mwm_tessrgb</td><td>mwm_tessrgb_core</td><td>90</td></tr>\n",
       "<tr><td>...</td><td>...</td><td>...</td><td>...</td><td>...</td><td>...</td><td>...</td><td>...</td><td>...</td><td>...</td><td>...</td><td>...</td><td>...</td><td>...</td><td>...</td><td>...</td></tr>\n",
       "<tr><td>1078</td><td>16490</td><td>32.5500743789435</td><td>42.503777684498</td><td>33.280454664566726</td><td>42.44337668435489</td><td>3885.7224</td><td>-0.077203006</td><td>4.61057</td><td>10.362</td><td>9.721</td><td>9.507</td><td>APOGEE</td><td>mwm_snc</td><td>mwm_snc_100pc_apogee</td><td>1</td></tr>\n",
       "<tr><td>1061</td><td>16477</td><td>35.6296159582751</td><td>41.619017189571</td><td>35.26802651874767</td><td>41.485705498191784</td><td>4529.387</td><td>-0.055326</td><td>4.20138</td><td>12.024</td><td>11.429</td><td>11.307</td><td>APOGEE</td><td>mwm_yso</td><td>mwm_yso_pms_apogee</td><td>1</td></tr>\n",
       "<tr><td>1058</td><td>16476</td><td>35.5802631816976</td><td>44.0034094377049</td><td>35.488155611605244</td><td>43.03615412524592</td><td>4457.0386</td><td>-0.194539</td><td>4.25364</td><td>11.821</td><td>11.22</td><td>11.112</td><td>APOGEE</td><td>mwm_yso</td><td>mwm_yso_pms_apogee</td><td>1</td></tr>\n",
       "<tr><td>1057</td><td>16476</td><td>35.5802631816976</td><td>44.0034094377049</td><td>35.488155611605244</td><td>43.03615412524592</td><td>4457.0386</td><td>-0.194539</td><td>4.25364</td><td>11.821</td><td>11.22</td><td>11.112</td><td>APOGEE</td><td>mwm_yso</td><td>mwm_yso_pms_apogee</td><td>1</td></tr>\n",
       "<tr><td>1053</td><td>16475</td><td>35.5237944441019</td><td>46.3873365858405</td><td>36.20933907214712</td><td>46.976210859067706</td><td>3748.9243</td><td>-0.73718154</td><td>nan</td><td>10.396</td><td>9.454</td><td>9.223</td><td>APOGEE</td><td>mwm_galactic</td><td>mwm_galactic_core</td><td>1</td></tr>\n",
       "<tr><td>1028</td><td>16460</td><td>31.9806580877632</td><td>49.5924219527872</td><td>32.92668699893172</td><td>48.91520162587212</td><td>4421.533</td><td>0.020785</td><td>4.53772</td><td>12.153</td><td>11.533</td><td>11.4</td><td>APOGEE</td><td>mwm_cb</td><td>mwm_cb_uvex5</td><td>1</td></tr>\n",
       "<tr><td>1027</td><td>16460</td><td>31.9806580877632</td><td>49.5924219527872</td><td>32.92668699893172</td><td>48.91520162587212</td><td>4421.533</td><td>0.020785</td><td>4.53772</td><td>12.153</td><td>11.533</td><td>11.4</td><td>APOGEE</td><td>mwm_cb</td><td>mwm_cb_uvex5</td><td>1</td></tr>\n",
       "<tr><td>971</td><td>16426</td><td>41.6479706023422</td><td>42.0750100907643</td><td>41.91207312251737</td><td>40.893223029486556</td><td>3000.1</td><td>-0.77855</td><td>nan</td><td>8.104</td><td>7.164</td><td>6.784</td><td>APOGEE</td><td>mwm_galactic</td><td>mwm_galactic_core</td><td>1</td></tr>\n",
       "<tr><td>778</td><td>16351</td><td>86.8434753118445</td><td>64.9351139936102</td><td>85.77700366350736</td><td>65.8055436004341</td><td>3760.6477</td><td>-0.34006155</td><td>nan</td><td>8.355</td><td>7.452</td><td>7.169</td><td>APOGEE</td><td>mwm_galactic</td><td>mwm_galactic_core</td><td>1</td></tr>\n",
       "<tr><td>758</td><td>16346</td><td>70.9005497106761</td><td>45.9328393959697</td><td>71.29776051920962</td><td>45.006430767475955</td><td>3709.0112</td><td>-0.17780155</td><td>nan</td><td>10.449</td><td>9.287</td><td>8.804</td><td>APOGEE</td><td>mwm_galactic</td><td>mwm_galactic_core</td><td>1</td></tr>\n",
       "</table>"
      ],
      "text/plain": [
       "<Table length=12413>\n",
       "design_id field_id      racen       ...        carton        num_targs\n",
       "  int64    int64       float64      ...       bytes25          int64  \n",
       "--------- -------- ---------------- ... -------------------- ---------\n",
       "    12987    19170 101.661685072784 ...     mwm_tessrgb_core        90\n",
       "    12987    19170 101.661685072784 ...     mwm_tessrgb_core        90\n",
       "    12987    19170 101.661685072784 ...     mwm_tessrgb_core        90\n",
       "    12987    19170 101.661685072784 ...     mwm_tessrgb_core        90\n",
       "    12987    19170 101.661685072784 ...     mwm_tessrgb_core        90\n",
       "    12987    19170 101.661685072784 ...     mwm_tessrgb_core        90\n",
       "    12987    19170 101.661685072784 ...     mwm_tessrgb_core        90\n",
       "    12987    19170 101.661685072784 ...     mwm_tessrgb_core        90\n",
       "    12987    19170 101.661685072784 ...     mwm_tessrgb_core        90\n",
       "    12987    19170 101.661685072784 ...     mwm_tessrgb_core        90\n",
       "      ...      ...              ... ...                  ...       ...\n",
       "     1078    16490 32.5500743789435 ... mwm_snc_100pc_apogee         1\n",
       "     1061    16477 35.6296159582751 ...   mwm_yso_pms_apogee         1\n",
       "     1058    16476 35.5802631816976 ...   mwm_yso_pms_apogee         1\n",
       "     1057    16476 35.5802631816976 ...   mwm_yso_pms_apogee         1\n",
       "     1053    16475 35.5237944441019 ...    mwm_galactic_core         1\n",
       "     1028    16460 31.9806580877632 ...         mwm_cb_uvex5         1\n",
       "     1027    16460 31.9806580877632 ...         mwm_cb_uvex5         1\n",
       "      971    16426 41.6479706023422 ...    mwm_galactic_core         1\n",
       "      778    16351 86.8434753118445 ...    mwm_galactic_core         1\n",
       "      758    16346 70.9005497106761 ...    mwm_galactic_core         1"
      ]
     },
     "execution_count": 2,
     "metadata": {},
     "output_type": "execute_result"
    }
   ],
   "source": [
    "target_tab = Table.read('teff-lt-6000_targs_commwm-5-31-59.fits')\n",
    "target_tab"
   ]
  },
  {
   "cell_type": "code",
   "execution_count": 3,
   "id": "induced-nickel",
   "metadata": {
    "scrolled": false
   },
   "outputs": [
    {
     "data": {
      "text/html": [
       "<i>Table length=5</i>\n",
       "<table id=\"table139684729773328-999741\" class=\"table-striped table-bordered table-condensed\">\n",
       "<thead><tr><th>idx</th><th>design_id</th><th>field_id</th><th>racen</th><th>deccen</th><th>ra</th><th>dec</th><th>teff</th><th>feh</th><th>logg</th><th>j</th><th>h</th><th>k</th><th>label</th><th>program</th><th>carton</th><th>num_targs</th></tr></thead>\n",
       "<tr><td>0</td><td>12798</td><td>19092</td><td>123.996668658484</td><td>47.2267531776921</td><td>123.68162672239548</td><td>46.843160420821505</td><td>3433.3716</td><td>0.157911</td><td>4.85599</td><td>10.524</td><td>9.893</td><td>9.625</td><td>APOGEE</td><td>mwm_galactic</td><td>mwm_galactic_core</td><td>67</td></tr>\n",
       "<tr><td>1</td><td>12798</td><td>19092</td><td>123.996668658484</td><td>47.2267531776921</td><td>123.20016901796214</td><td>47.719972735109096</td><td>3610.612</td><td>-0.09459164</td><td>4.77835</td><td>10.936</td><td>10.341</td><td>10.107</td><td>APOGEE</td><td>mwm_snc</td><td>mwm_snc_100pc_apogee</td><td>67</td></tr>\n",
       "<tr><td>2</td><td>12798</td><td>19092</td><td>123.996668658484</td><td>47.2267531776921</td><td>124.04492344764944</td><td>46.86995278832162</td><td>3554.315</td><td>-0.023227</td><td>4.83091</td><td>11.287</td><td>10.691</td><td>10.439</td><td>APOGEE</td><td>mwm_snc</td><td>mwm_snc_100pc_apogee</td><td>67</td></tr>\n",
       "<tr><td>3</td><td>12798</td><td>19092</td><td>123.996668658484</td><td>47.2267531776921</td><td>123.05956699808773</td><td>46.577122197780035</td><td>3794.4026</td><td>-0.32001898</td><td>4.74639</td><td>11.293</td><td>10.705</td><td>10.473</td><td>APOGEE</td><td>mwm_snc</td><td>mwm_snc_100pc_apogee</td><td>67</td></tr>\n",
       "<tr><td>4</td><td>12798</td><td>19092</td><td>123.996668658484</td><td>47.2267531776921</td><td>123.95342197283436</td><td>46.02178057758114</td><td>3735.0244</td><td>-0.126369</td><td>4.75272</td><td>9.78</td><td>9.16</td><td>8.944</td><td>APOGEE</td><td>mwm_cb</td><td>mwm_cb_gaiagalex_apogee</td><td>67</td></tr>\n",
       "</table><style>table.dataTable {clear: both; width: auto !important; margin: 0 !important;}\n",
       ".dataTables_info, .dataTables_length, .dataTables_filter, .dataTables_paginate{\n",
       "display: inline-block; margin-right: 1em; }\n",
       ".paginate_button { margin-right: 5px; }\n",
       "</style>\n",
       "<script>\n",
       "\n",
       "var astropy_sort_num = function(a, b) {\n",
       "    var a_num = parseFloat(a);\n",
       "    var b_num = parseFloat(b);\n",
       "\n",
       "    if (isNaN(a_num) && isNaN(b_num))\n",
       "        return ((a < b) ? -1 : ((a > b) ? 1 : 0));\n",
       "    else if (!isNaN(a_num) && !isNaN(b_num))\n",
       "        return ((a_num < b_num) ? -1 : ((a_num > b_num) ? 1 : 0));\n",
       "    else\n",
       "        return isNaN(a_num) ? -1 : 1;\n",
       "}\n",
       "\n",
       "require.config({paths: {\n",
       "    datatables: 'https://cdn.datatables.net/1.10.12/js/jquery.dataTables.min'\n",
       "}});\n",
       "require([\"datatables\"], function(){\n",
       "    console.log(\"$('#table139684729773328-999741').dataTable()\");\n",
       "    \n",
       "jQuery.extend( jQuery.fn.dataTableExt.oSort, {\n",
       "    \"optionalnum-asc\": astropy_sort_num,\n",
       "    \"optionalnum-desc\": function (a,b) { return -astropy_sort_num(a, b); }\n",
       "});\n",
       "\n",
       "    $('#table139684729773328-999741').dataTable({\n",
       "        order: [],\n",
       "        pageLength: 50,\n",
       "        lengthMenu: [[10, 25, 50, 100, 500, 1000, -1], [10, 25, 50, 100, 500, 1000, 'All']],\n",
       "        pagingType: \"full_numbers\",\n",
       "        columnDefs: [{targets: [0, 1, 2, 3, 4, 5, 6, 7, 8, 9, 10, 11, 12, 16], type: \"optionalnum\"}]\n",
       "    });\n",
       "});\n",
       "</script>\n"
      ],
      "text/plain": [
       "<IPython.core.display.HTML object>"
      ]
     },
     "execution_count": 3,
     "metadata": {},
     "output_type": "execute_result"
    }
   ],
   "source": [
    "field_tab = target_tab[target_tab['design_id'] == 12798]\n",
    "#field_tab.show_in_notebook()\n",
    "#field_tab[np.isfinite(field_tab['logg'])].show_in_notebook()\n",
    "field_tab[np.isfinite(field_tab['logg']) & (field_tab['teff'] < 3800)].show_in_notebook()"
   ]
  },
  {
   "cell_type": "code",
   "execution_count": 4,
   "id": "presidential-chase",
   "metadata": {},
   "outputs": [],
   "source": [
    "targ_list = list()\n",
    "rgb_list = list()\n",
    "logg_list = list()\n",
    "subg_list = list()\n",
    "dwarf_list = list()\n",
    "cool_list = list()\n",
    "\n",
    "design_arr = np.unique(target_tab['design_id'])\n",
    "for design in design_arr:\n",
    "    design_tab = target_tab[target_tab['design_id'] == design]\n",
    "    num_targ = len(design_tab)\n",
    "    targ_list.append(num_targ)\n",
    "    num_rgb = len(design_tab[design_tab['program'] == 'mwm_tessrgb'])\n",
    "    rgb_list.append(num_rgb)\n",
    "    num_logg = len(design_tab[np.isfinite(design_tab['logg'])& (design_tab['label'] == 'APOGEE')])\n",
    "    logg_list.append(num_logg)\n",
    "    num_subg = len(design_tab[(design_tab['logg'] < 4.1) & (design_tab['logg'] >= 3.5) & (design_tab['label'] == 'APOGEE')])\n",
    "    subg_list.append(num_subg)\n",
    "    num_dwarf = len(design_tab[(design_tab['logg'] > 4.1) & (design_tab['label'] == 'APOGEE')])\n",
    "    dwarf_list.append(num_dwarf)\n",
    "    num_cool = len(design_tab[(design_tab['logg'] > 4.1) & (design_tab['teff'] < 3800) & \n",
    "                   (design_tab['label'] == 'APOGEE')])\n",
    "    cool_list.append(num_cool)\n",
    "    #print(\"Design: {} Num: {} RGB: {} Log g: {} Subg: {} Cool: {}\".format(design, num_targ,num_rgb,num_logg\n",
    "    #                                                                     ,num_subg, num_cool))\n",
    "\n",
    "summary_tab = Table()\n",
    "summary_tab['design_id'] = design_arr\n",
    "summary_tab['num'] = targ_list\n",
    "summary_tab['rgb'] = rgb_list\n",
    "summary_tab['logg'] = logg_list\n",
    "summary_tab['subg'] = subg_list\n",
    "summary_tab['dwarf'] = dwarf_list\n",
    "summary_tab['cool'] = cool_list"
   ]
  },
  {
   "cell_type": "code",
   "execution_count": 5,
   "id": "false-bahrain",
   "metadata": {},
   "outputs": [
    {
     "data": {
      "text/html": [
       "<i>Table length=9</i>\n",
       "<table id=\"table139685496438416\" class=\"table-striped table-bordered table-condensed\">\n",
       "<thead><tr><th>design_id</th><th>num</th><th>rgb</th><th>logg</th><th>subg</th><th>dwarf</th><th>cool</th></tr></thead>\n",
       "<thead><tr><th>int64</th><th>int64</th><th>int64</th><th>int64</th><th>int64</th><th>int64</th><th>int64</th></tr></thead>\n",
       "<tr><td>12798</td><td>67</td><td>34</td><td>28</td><td>6</td><td>22</td><td>5</td></tr>\n",
       "<tr><td>12781</td><td>63</td><td>32</td><td>30</td><td>5</td><td>25</td><td>5</td></tr>\n",
       "<tr><td>12853</td><td>65</td><td>31</td><td>30</td><td>4</td><td>26</td><td>5</td></tr>\n",
       "<tr><td>12875</td><td>76</td><td>37</td><td>38</td><td>7</td><td>31</td><td>4</td></tr>\n",
       "<tr><td>12780</td><td>63</td><td>41</td><td>19</td><td>3</td><td>16</td><td>4</td></tr>\n",
       "<tr><td>12788</td><td>56</td><td>23</td><td>30</td><td>3</td><td>27</td><td>4</td></tr>\n",
       "<tr><td>13467</td><td>59</td><td>23</td><td>30</td><td>9</td><td>21</td><td>3</td></tr>\n",
       "<tr><td>13135</td><td>67</td><td>40</td><td>26</td><td>3</td><td>23</td><td>3</td></tr>\n",
       "<tr><td>12787</td><td>64</td><td>32</td><td>27</td><td>3</td><td>23</td><td>3</td></tr>\n",
       "</table>"
      ],
      "text/plain": [
       "<Table length=9>\n",
       "design_id  num   rgb   logg  subg dwarf  cool\n",
       "  int64   int64 int64 int64 int64 int64 int64\n",
       "--------- ----- ----- ----- ----- ----- -----\n",
       "    12798    67    34    28     6    22     5\n",
       "    12781    63    32    30     5    25     5\n",
       "    12853    65    31    30     4    26     5\n",
       "    12875    76    37    38     7    31     4\n",
       "    12780    63    41    19     3    16     4\n",
       "    12788    56    23    30     3    27     4\n",
       "    13467    59    23    30     9    21     3\n",
       "    13135    67    40    26     3    23     3\n",
       "    12787    64    32    27     3    23     3"
      ]
     },
     "execution_count": 5,
     "metadata": {},
     "output_type": "execute_result"
    }
   ],
   "source": [
    "summary_tab.sort('cool')\n",
    "summary_tab.reverse()\n",
    "best_tab = summary_tab[(summary_tab['subg'] >= 3) & (summary_tab['rgb'] > 20) & (summary_tab['cool'] >= 3)]\n",
    "best_tab.sort(['cool','subg'])\n",
    "best_tab.reverse()\n",
    "best_tab"
   ]
  },
  {
   "cell_type": "code",
   "execution_count": 6,
   "id": "laden-humanity",
   "metadata": {},
   "outputs": [
    {
     "data": {
      "text/plain": [
       "580"
      ]
     },
     "execution_count": 6,
     "metadata": {},
     "output_type": "execute_result"
    }
   ],
   "source": [
    "np.sum(best_tab['num'])"
   ]
  },
  {
   "cell_type": "code",
   "execution_count": 7,
   "id": "double-angel",
   "metadata": {},
   "outputs": [
    {
     "data": {
      "text/html": [
       "<i>Table length=580</i>\n",
       "<table id=\"table139684729740368\" class=\"table-striped table-bordered table-condensed\">\n",
       "<thead><tr><th>design_id</th><th>field_id</th><th>racen</th><th>deccen</th><th>ra</th><th>dec</th><th>teff</th><th>feh</th><th>logg</th><th>j</th><th>h</th><th>k</th><th>label</th><th>program</th><th>carton</th><th>num_targs</th></tr></thead>\n",
       "<thead><tr><th>int64</th><th>int64</th><th>float64</th><th>float64</th><th>float64</th><th>float64</th><th>float64</th><th>float64</th><th>float64</th><th>float64</th><th>float64</th><th>float64</th><th>bytes6</th><th>bytes13</th><th>bytes25</th><th>int64</th></tr></thead>\n",
       "<tr><td>12875</td><td>19124</td><td>126.502324661715</td><td>56.2376095398739</td><td>126.9436698238534</td><td>56.258525768343354</td><td>5413.0</td><td>-0.40452</td><td>4.32643</td><td>10.652</td><td>10.428</td><td>10.385</td><td>APOGEE</td><td>ops_std</td><td>ops_std_apogee</td><td>76</td></tr>\n",
       "<tr><td>12875</td><td>19124</td><td>126.502324661715</td><td>56.2376095398739</td><td>127.09081761542194</td><td>55.80708489732809</td><td>4861.603</td><td>-0.25985247</td><td>nan</td><td>7.995</td><td>7.5</td><td>7.379</td><td>APOGEE</td><td>mwm_tessrgb</td><td>mwm_tessrgb_core</td><td>76</td></tr>\n",
       "<tr><td>12875</td><td>19124</td><td>126.502324661715</td><td>56.2376095398739</td><td>124.83932016373592</td><td>56.45200140277449</td><td>5605.6665</td><td>0.00336762</td><td>nan</td><td>7.79</td><td>7.523</td><td>7.449</td><td>APOGEE</td><td>ops_std</td><td>ops_std_apogee</td><td>76</td></tr>\n",
       "<tr><td>12875</td><td>19124</td><td>126.502324661715</td><td>56.2376095398739</td><td>126.3531390064832</td><td>56.96496746843342</td><td>5964.3247</td><td>-0.031054</td><td>4.43401</td><td>9.457</td><td>9.219</td><td>9.162</td><td>APOGEE</td><td>mwm_planet</td><td>mwm_tess_planet</td><td>76</td></tr>\n",
       "<tr><td>12875</td><td>19124</td><td>126.502324661715</td><td>56.2376095398739</td><td>127.90783308077027</td><td>55.71140119027075</td><td>5309.811</td><td>0.367551</td><td>4.29574</td><td>10.127</td><td>9.802</td><td>9.735</td><td>APOGEE</td><td>mwm_snc</td><td>mwm_snc_250pc_apogee</td><td>76</td></tr>\n",
       "<tr><td>12875</td><td>19124</td><td>126.502324661715</td><td>56.2376095398739</td><td>128.7619190832328</td><td>56.18820356118905</td><td>4987.23</td><td>-0.340639</td><td>4.65858</td><td>9.326</td><td>8.892</td><td>8.76</td><td>APOGEE</td><td>mwm_snc</td><td>mwm_snc_100pc_apogee</td><td>76</td></tr>\n",
       "<tr><td>12875</td><td>19124</td><td>126.502324661715</td><td>56.2376095398739</td><td>127.6019757857465</td><td>55.65506385466518</td><td>3078.0</td><td>-0.35499</td><td>4.09058</td><td>10.976</td><td>10.772</td><td>10.711</td><td>APOGEE</td><td>ops_std</td><td>ops_std_apogee</td><td>76</td></tr>\n",
       "<tr><td>12875</td><td>19124</td><td>126.502324661715</td><td>56.2376095398739</td><td>125.92238137497014</td><td>56.976055431241335</td><td>5006.463</td><td>-0.62360156</td><td>nan</td><td>9.847</td><td>9.411</td><td>9.3</td><td>APOGEE</td><td>mwm_tessrgb</td><td>mwm_tessrgb_core</td><td>76</td></tr>\n",
       "<tr><td>12875</td><td>19124</td><td>126.502324661715</td><td>56.2376095398739</td><td>125.04681788809465</td><td>56.00649159695056</td><td>4806.064</td><td>-0.045778997</td><td>4.40787</td><td>9.747</td><td>9.248</td><td>9.147</td><td>APOGEE</td><td>mwm_snc</td><td>mwm_snc_250pc_apogee</td><td>76</td></tr>\n",
       "<tr><td>12875</td><td>19124</td><td>126.502324661715</td><td>56.2376095398739</td><td>127.078119562034</td><td>55.37796478606429</td><td>3656.2756</td><td>-0.14947693</td><td>4.80885</td><td>9.235</td><td>8.657</td><td>8.421</td><td>APOGEE</td><td>mwm_snc</td><td>mwm_snc_100pc_apogee</td><td>76</td></tr>\n",
       "<tr><td>...</td><td>...</td><td>...</td><td>...</td><td>...</td><td>...</td><td>...</td><td>...</td><td>...</td><td>...</td><td>...</td><td>...</td><td>...</td><td>...</td><td>...</td><td>...</td></tr>\n",
       "<tr><td>12788</td><td>19088</td><td>123.502610751374</td><td>44.96611329875</td><td>124.74117590205036</td><td>45.665747014838985</td><td>5467.9175</td><td>0.076583</td><td>4.54629</td><td>9.985</td><td>9.641</td><td>9.538</td><td>APOGEE</td><td>ops_std</td><td>ops_std_apogee</td><td>56</td></tr>\n",
       "<tr><td>12788</td><td>19088</td><td>123.502610751374</td><td>44.96611329875</td><td>124.27326811763332</td><td>45.58524397948948</td><td>4624.674</td><td>-0.20938155</td><td>nan</td><td>9.505</td><td>8.879</td><td>8.778</td><td>APOGEE</td><td>mwm_tessrgb</td><td>mwm_tessrgb_core</td><td>56</td></tr>\n",
       "<tr><td>12788</td><td>19088</td><td>123.502610751374</td><td>44.96611329875</td><td>123.1646370456042</td><td>45.85834136571228</td><td>4298.762</td><td>-0.54157156</td><td>nan</td><td>10.639</td><td>9.968</td><td>9.823</td><td>APOGEE</td><td>mwm_tessrgb</td><td>mwm_tessrgb_core</td><td>56</td></tr>\n",
       "<tr><td>12788</td><td>19088</td><td>123.502610751374</td><td>44.96611329875</td><td>124.7584980277348</td><td>45.77365007471507</td><td>5863.7246</td><td>-0.2784829</td><td>4.40469</td><td>11.071</td><td>10.804</td><td>10.75</td><td>APOGEE</td><td>ops_std</td><td>ops_std_apogee</td><td>56</td></tr>\n",
       "<tr><td>12788</td><td>19088</td><td>123.502610751374</td><td>44.96611329875</td><td>125.00601855216188</td><td>44.93639058051927</td><td>5186.2983</td><td>-0.04594231</td><td>nan</td><td>10.621</td><td>10.181</td><td>10.075</td><td>APOGEE</td><td>mwm_tessrgb</td><td>mwm_tessrgb_core</td><td>56</td></tr>\n",
       "<tr><td>12788</td><td>19088</td><td>123.502610751374</td><td>44.96611329875</td><td>123.70913496217875</td><td>45.83939324387572</td><td>5333.7163</td><td>0.122641</td><td>4.47842</td><td>9.251</td><td>8.839</td><td>8.739</td><td>APOGEE</td><td>mwm_snc</td><td>mwm_snc_250pc_apogee</td><td>56</td></tr>\n",
       "<tr><td>12788</td><td>19088</td><td>123.502610751374</td><td>44.96611329875</td><td>121.86983111543303</td><td>44.805702124818495</td><td>4587.867</td><td>-0.28239182</td><td>nan</td><td>8.741</td><td>8.135</td><td>8.016</td><td>APOGEE</td><td>mwm_tessrgb</td><td>mwm_tessrgb_core</td><td>56</td></tr>\n",
       "<tr><td>12788</td><td>19088</td><td>123.502610751374</td><td>44.96611329875</td><td>123.99698303464363</td><td>44.50491996173118</td><td>4676.7534</td><td>-0.92933154</td><td>nan</td><td>10.901</td><td>10.345</td><td>10.24</td><td>APOGEE</td><td>mwm_tessrgb</td><td>mwm_tessrgb_core</td><td>56</td></tr>\n",
       "<tr><td>12788</td><td>19088</td><td>123.502610751374</td><td>44.96611329875</td><td>121.78731295615005</td><td>44.77906176511541</td><td>5046.334</td><td>-0.17922156</td><td>nan</td><td>9.446</td><td>8.975</td><td>8.855</td><td>APOGEE</td><td>mwm_tessrgb</td><td>mwm_tessrgb_core</td><td>56</td></tr>\n",
       "<tr><td>12788</td><td>19088</td><td>123.502610751374</td><td>44.96611329875</td><td>123.72046950092478</td><td>44.24381176197453</td><td>5709.8003</td><td>0.08199994</td><td>4.14913</td><td>10.711</td><td>10.464</td><td>10.362</td><td>APOGEE</td><td>ops_std</td><td>ops_std_apogee</td><td>56</td></tr>\n",
       "</table>"
      ],
      "text/plain": [
       "<Table length=580>\n",
       "design_id field_id      racen       ...        carton        num_targs\n",
       "  int64    int64       float64      ...       bytes25          int64  \n",
       "--------- -------- ---------------- ... -------------------- ---------\n",
       "    12875    19124 126.502324661715 ...       ops_std_apogee        76\n",
       "    12875    19124 126.502324661715 ...     mwm_tessrgb_core        76\n",
       "    12875    19124 126.502324661715 ...       ops_std_apogee        76\n",
       "    12875    19124 126.502324661715 ...      mwm_tess_planet        76\n",
       "    12875    19124 126.502324661715 ... mwm_snc_250pc_apogee        76\n",
       "    12875    19124 126.502324661715 ... mwm_snc_100pc_apogee        76\n",
       "    12875    19124 126.502324661715 ...       ops_std_apogee        76\n",
       "    12875    19124 126.502324661715 ...     mwm_tessrgb_core        76\n",
       "    12875    19124 126.502324661715 ... mwm_snc_250pc_apogee        76\n",
       "    12875    19124 126.502324661715 ... mwm_snc_100pc_apogee        76\n",
       "      ...      ...              ... ...                  ...       ...\n",
       "    12788    19088 123.502610751374 ...       ops_std_apogee        56\n",
       "    12788    19088 123.502610751374 ...     mwm_tessrgb_core        56\n",
       "    12788    19088 123.502610751374 ...     mwm_tessrgb_core        56\n",
       "    12788    19088 123.502610751374 ...       ops_std_apogee        56\n",
       "    12788    19088 123.502610751374 ...     mwm_tessrgb_core        56\n",
       "    12788    19088 123.502610751374 ... mwm_snc_250pc_apogee        56\n",
       "    12788    19088 123.502610751374 ...     mwm_tessrgb_core        56\n",
       "    12788    19088 123.502610751374 ...     mwm_tessrgb_core        56\n",
       "    12788    19088 123.502610751374 ...     mwm_tessrgb_core        56\n",
       "    12788    19088 123.502610751374 ...       ops_std_apogee        56"
      ]
     },
     "execution_count": 7,
     "metadata": {},
     "output_type": "execute_result"
    }
   ],
   "source": [
    "mask = np.isin(target_tab['design_id'],best_tab['design_id'])\n",
    "best_target_tab = target_tab[mask]\n",
    "best_target_tab"
   ]
  },
  {
   "cell_type": "code",
   "execution_count": 8,
   "id": "sacred-footage",
   "metadata": {},
   "outputs": [],
   "source": [
    "best_target_tab.write('best_field_targets_cool_stars.fits')"
   ]
  },
  {
   "cell_type": "markdown",
   "id": "disabled-football",
   "metadata": {},
   "source": [
    "## Detailed view"
   ]
  },
  {
   "cell_type": "code",
   "execution_count": 9,
   "id": "female-briefs",
   "metadata": {},
   "outputs": [
    {
     "data": {
      "text/html": [
       "<i>Table length=505284</i>\n",
       "<table id=\"table139684729613840\" class=\"table-striped table-bordered table-condensed\">\n",
       "<thead><tr><th>design_id</th><th>field</th><th>exposure</th><th>design_mode</th><th>mugatu_version</th><th>run_on</th><th>pk</th><th>field_id</th><th>racen</th><th>deccen</th><th>position_angle</th><th>cadence</th><th>observatory</th><th>version</th><th>catalogid</th><th>dec</th><th>epoch</th><th>pmdec</th><th>pmra</th><th>ra</th><th>parallax</th><th>bp</th><th>g</th><th>h</th><th>i</th><th>z</th><th>r</th><th>rp</th><th>gaia_g</th><th>j</th><th>k</th><th>optical_prov</th><th>carton_to_target</th><th>label</th><th>carton</th></tr></thead>\n",
       "<thead><tr><th>int64</th><th>int64</th><th>int64</th><th>bytes15</th><th>bytes5</th><th>bytes10</th><th>int64</th><th>int64</th><th>float64</th><th>float64</th><th>float64</th><th>int64</th><th>int64</th><th>int64</th><th>int64</th><th>float64</th><th>float64</th><th>float64</th><th>float64</th><th>float64</th><th>float64</th><th>float64</th><th>float64</th><th>float64</th><th>float64</th><th>float64</th><th>float64</th><th>float64</th><th>float64</th><th>float64</th><th>float64</th><th>bytes26</th><th>float64</th><th>bytes6</th><th>bytes27</th></tr></thead>\n",
       "<tr><td>73</td><td>80</td><td>0</td><td>bright_time_eng</td><td>1.0.4</td><td>2021-12-01</td><td>80</td><td>16075</td><td>135.0</td><td>60.0</td><td>0.0</td><td>1</td><td>0</td><td>84</td><td>7610820798</td><td>58.89606524843866</td><td>2015.5</td><td>nan</td><td>nan</td><td>136.2818308550186</td><td>nan</td><td>nan</td><td>nan</td><td>nan</td><td>nan</td><td>nan</td><td>nan</td><td>nan</td><td>nan</td><td>nan</td><td>nan</td><td>None</td><td>nan</td><td>APOGEE</td><td>ops_sky_boss</td></tr>\n",
       "<tr><td>73</td><td>80</td><td>0</td><td>bright_time_eng</td><td>1.0.4</td><td>2021-12-01</td><td>80</td><td>16075</td><td>135.0</td><td>60.0</td><td>0.0</td><td>1</td><td>0</td><td>84</td><td>7610820806</td><td>58.97756301972696</td><td>2015.5</td><td>nan</td><td>nan</td><td>136.27463312368974</td><td>nan</td><td>nan</td><td>nan</td><td>nan</td><td>nan</td><td>nan</td><td>nan</td><td>nan</td><td>nan</td><td>nan</td><td>nan</td><td>None</td><td>nan</td><td>APOGEE</td><td>ops_sky_boss</td></tr>\n",
       "<tr><td>73</td><td>80</td><td>0</td><td>bright_time_eng</td><td>1.0.4</td><td>2021-12-01</td><td>80</td><td>16075</td><td>135.0</td><td>60.0</td><td>0.0</td><td>1</td><td>0</td><td>84</td><td>7610820841</td><td>59.233805934166284</td><td>2015.5</td><td>nan</td><td>nan</td><td>136.5829889160248</td><td>nan</td><td>nan</td><td>nan</td><td>nan</td><td>nan</td><td>nan</td><td>nan</td><td>nan</td><td>nan</td><td>nan</td><td>nan</td><td>None</td><td>nan</td><td>APOGEE</td><td>ops_sky_boss</td></tr>\n",
       "<tr><td>73</td><td>80</td><td>0</td><td>bright_time_eng</td><td>1.0.4</td><td>2021-12-01</td><td>80</td><td>16075</td><td>135.0</td><td>60.0</td><td>0.0</td><td>1</td><td>0</td><td>84</td><td>7610820885</td><td>58.856051350557486</td><td>2015.5</td><td>nan</td><td>nan</td><td>135.81032162249966</td><td>nan</td><td>nan</td><td>nan</td><td>nan</td><td>nan</td><td>nan</td><td>nan</td><td>nan</td><td>nan</td><td>nan</td><td>nan</td><td>None</td><td>nan</td><td>APOGEE</td><td>ops_sky_boss</td></tr>\n",
       "<tr><td>73</td><td>80</td><td>0</td><td>bright_time_eng</td><td>1.0.4</td><td>2021-12-01</td><td>80</td><td>16075</td><td>135.0</td><td>60.0</td><td>0.0</td><td>1</td><td>0</td><td>84</td><td>7610820936</td><td>59.056082018575225</td><td>2015.5</td><td>nan</td><td>nan</td><td>135.19545114888848</td><td>nan</td><td>nan</td><td>nan</td><td>nan</td><td>nan</td><td>nan</td><td>nan</td><td>nan</td><td>nan</td><td>nan</td><td>nan</td><td>None</td><td>nan</td><td>APOGEE</td><td>ops_sky_boss</td></tr>\n",
       "<tr><td>73</td><td>80</td><td>0</td><td>bright_time_eng</td><td>1.0.4</td><td>2021-12-01</td><td>80</td><td>16075</td><td>135.0</td><td>60.0</td><td>0.0</td><td>1</td><td>0</td><td>84</td><td>7610821070</td><td>59.36112808014974</td><td>2015.5</td><td>nan</td><td>nan</td><td>136.00372536074696</td><td>nan</td><td>nan</td><td>nan</td><td>nan</td><td>nan</td><td>nan</td><td>nan</td><td>nan</td><td>nan</td><td>nan</td><td>nan</td><td>None</td><td>nan</td><td>APOGEE</td><td>ops_sky_boss</td></tr>\n",
       "<tr><td>73</td><td>80</td><td>0</td><td>bright_time_eng</td><td>1.0.4</td><td>2021-12-01</td><td>80</td><td>16075</td><td>135.0</td><td>60.0</td><td>0.0</td><td>1</td><td>0</td><td>84</td><td>7610821460</td><td>59.03534259987552</td><td>2015.5</td><td>nan</td><td>nan</td><td>133.41430971716605</td><td>nan</td><td>nan</td><td>nan</td><td>nan</td><td>nan</td><td>nan</td><td>nan</td><td>nan</td><td>nan</td><td>nan</td><td>nan</td><td>None</td><td>nan</td><td>APOGEE</td><td>ops_sky_boss</td></tr>\n",
       "<tr><td>73</td><td>80</td><td>0</td><td>bright_time_eng</td><td>1.0.4</td><td>2021-12-01</td><td>80</td><td>16075</td><td>135.0</td><td>60.0</td><td>0.0</td><td>1</td><td>0</td><td>84</td><td>7610821479</td><td>59.19382468095364</td><td>2015.5</td><td>nan</td><td>nan</td><td>133.459120971903</td><td>nan</td><td>nan</td><td>nan</td><td>nan</td><td>nan</td><td>nan</td><td>nan</td><td>nan</td><td>nan</td><td>nan</td><td>nan</td><td>None</td><td>nan</td><td>APOGEE</td><td>ops_sky_boss</td></tr>\n",
       "<tr><td>73</td><td>80</td><td>0</td><td>bright_time_eng</td><td>1.0.4</td><td>2021-12-01</td><td>80</td><td>16075</td><td>135.0</td><td>60.0</td><td>0.0</td><td>1</td><td>0</td><td>84</td><td>7610821632</td><td>59.16124452201103</td><td>2015.5</td><td>nan</td><td>nan</td><td>134.81444168501943</td><td>nan</td><td>nan</td><td>nan</td><td>nan</td><td>nan</td><td>nan</td><td>nan</td><td>nan</td><td>nan</td><td>nan</td><td>nan</td><td>None</td><td>nan</td><td>APOGEE</td><td>ops_sky_boss</td></tr>\n",
       "<tr><td>73</td><td>80</td><td>0</td><td>bright_time_eng</td><td>1.0.4</td><td>2021-12-01</td><td>80</td><td>16075</td><td>135.0</td><td>60.0</td><td>0.0</td><td>1</td><td>0</td><td>84</td><td>7610821662</td><td>59.282666699427</td><td>2015.5</td><td>nan</td><td>nan</td><td>135.34714709064397</td><td>nan</td><td>nan</td><td>nan</td><td>nan</td><td>nan</td><td>nan</td><td>nan</td><td>nan</td><td>nan</td><td>nan</td><td>nan</td><td>None</td><td>nan</td><td>APOGEE</td><td>ops_sky_boss</td></tr>\n",
       "<tr><td>...</td><td>...</td><td>...</td><td>...</td><td>...</td><td>...</td><td>...</td><td>...</td><td>...</td><td>...</td><td>...</td><td>...</td><td>...</td><td>...</td><td>...</td><td>...</td><td>...</td><td>...</td><td>...</td><td>...</td><td>...</td><td>...</td><td>...</td><td>...</td><td>...</td><td>...</td><td>...</td><td>...</td><td>...</td><td>...</td><td>...</td><td>...</td><td>...</td><td>...</td><td>...</td></tr>\n",
       "<tr><td>20315</td><td>4801</td><td>39</td><td>dark_monit</td><td>1.0.4</td><td>2021-12-03</td><td>4801</td><td>20833</td><td>134.78102189781</td><td>51.7397200522867</td><td>0.0</td><td>42</td><td>0</td><td>105</td><td>27021603095762414</td><td>52.3345670390034</td><td>2015.5</td><td>nan</td><td>nan</td><td>135.45677344654575</td><td>nan</td><td>nan</td><td>nan</td><td>nan</td><td>nan</td><td>nan</td><td>nan</td><td>nan</td><td>nan</td><td>nan</td><td>nan</td><td>None</td><td>nan</td><td>APOGEE</td><td>ops_sky_apogee_best</td></tr>\n",
       "<tr><td>20315</td><td>4801</td><td>39</td><td>dark_monit</td><td>1.0.4</td><td>2021-12-03</td><td>4801</td><td>20833</td><td>134.78102189781</td><td>51.7397200522867</td><td>0.0</td><td>42</td><td>0</td><td>105</td><td>27021603095764039</td><td>52.292328604861325</td><td>2015.5</td><td>nan</td><td>nan</td><td>135.63324080499652</td><td>nan</td><td>nan</td><td>nan</td><td>nan</td><td>nan</td><td>nan</td><td>nan</td><td>nan</td><td>nan</td><td>nan</td><td>nan</td><td>None</td><td>nan</td><td>APOGEE</td><td>ops_sky_apogee_best</td></tr>\n",
       "<tr><td>20315</td><td>4801</td><td>39</td><td>dark_monit</td><td>1.0.4</td><td>2021-12-03</td><td>4801</td><td>20833</td><td>134.78102189781</td><td>51.7397200522867</td><td>0.0</td><td>42</td><td>0</td><td>105</td><td>27021603095765201</td><td>52.82294186292316</td><td>2015.5</td><td>nan</td><td>nan</td><td>135.74396154146797</td><td>nan</td><td>nan</td><td>nan</td><td>nan</td><td>nan</td><td>nan</td><td>nan</td><td>nan</td><td>nan</td><td>nan</td><td>nan</td><td>None</td><td>nan</td><td>APOGEE</td><td>ops_sky_apogee_best</td></tr>\n",
       "<tr><td>20315</td><td>4801</td><td>39</td><td>dark_monit</td><td>1.0.4</td><td>2021-12-03</td><td>4801</td><td>20833</td><td>134.78102189781</td><td>51.7397200522867</td><td>0.0</td><td>42</td><td>0</td><td>105</td><td>27021603095766778</td><td>52.61049498013343</td><td>2015.5</td><td>nan</td><td>nan</td><td>134.30734248066233</td><td>nan</td><td>nan</td><td>nan</td><td>nan</td><td>nan</td><td>nan</td><td>nan</td><td>nan</td><td>nan</td><td>nan</td><td>nan</td><td>None</td><td>nan</td><td>APOGEE</td><td>ops_sky_apogee_best</td></tr>\n",
       "<tr><td>20315</td><td>4801</td><td>39</td><td>dark_monit</td><td>1.0.4</td><td>2021-12-03</td><td>4801</td><td>20833</td><td>134.78102189781</td><td>51.7397200522867</td><td>0.0</td><td>42</td><td>0</td><td>105</td><td>27021603095755784</td><td>51.58555016039484</td><td>2015.5</td><td>nan</td><td>nan</td><td>134.00647580095432</td><td>nan</td><td>nan</td><td>nan</td><td>nan</td><td>nan</td><td>nan</td><td>nan</td><td>nan</td><td>nan</td><td>nan</td><td>nan</td><td>None</td><td>nan</td><td>APOGEE</td><td>ops_sky_apogee_best</td></tr>\n",
       "<tr><td>20315</td><td>4801</td><td>39</td><td>dark_monit</td><td>1.0.4</td><td>2021-12-03</td><td>4801</td><td>20833</td><td>134.78102189781</td><td>51.7397200522867</td><td>0.0</td><td>42</td><td>0</td><td>105</td><td>27021603095763124</td><td>52.15652615782405</td><td>2015.5</td><td>nan</td><td>nan</td><td>135.1296680497925</td><td>nan</td><td>nan</td><td>nan</td><td>nan</td><td>nan</td><td>nan</td><td>nan</td><td>nan</td><td>nan</td><td>nan</td><td>nan</td><td>None</td><td>nan</td><td>APOGEE</td><td>ops_sky_apogee_best</td></tr>\n",
       "<tr><td>20315</td><td>4801</td><td>39</td><td>dark_monit</td><td>1.0.4</td><td>2021-12-03</td><td>4801</td><td>20833</td><td>134.78102189781</td><td>51.7397200522867</td><td>0.0</td><td>42</td><td>0</td><td>105</td><td>27021603095763654</td><td>52.59843726763283</td><td>2015.5</td><td>nan</td><td>nan</td><td>134.9790169030503</td><td>nan</td><td>nan</td><td>nan</td><td>nan</td><td>nan</td><td>nan</td><td>nan</td><td>nan</td><td>nan</td><td>nan</td><td>nan</td><td>None</td><td>nan</td><td>APOGEE</td><td>ops_sky_apogee_best</td></tr>\n",
       "<tr><td>20315</td><td>4801</td><td>39</td><td>dark_monit</td><td>1.0.4</td><td>2021-12-03</td><td>4801</td><td>20833</td><td>134.78102189781</td><td>51.7397200522867</td><td>0.0</td><td>42</td><td>0</td><td>105</td><td>27021603095755011</td><td>51.25580694880489</td><td>2015.5</td><td>nan</td><td>nan</td><td>134.01123046874997</td><td>nan</td><td>nan</td><td>nan</td><td>nan</td><td>nan</td><td>nan</td><td>nan</td><td>nan</td><td>nan</td><td>nan</td><td>nan</td><td>None</td><td>nan</td><td>APOGEE</td><td>ops_sky_apogee_best</td></tr>\n",
       "<tr><td>20315</td><td>4801</td><td>39</td><td>dark_monit</td><td>1.0.4</td><td>2021-12-03</td><td>4801</td><td>20833</td><td>134.78102189781</td><td>51.7397200522867</td><td>0.0</td><td>42</td><td>0</td><td>105</td><td>27021603095759817</td><td>52.21839854606562</td><td>2015.5</td><td>nan</td><td>nan</td><td>133.5385000192404</td><td>nan</td><td>nan</td><td>nan</td><td>nan</td><td>nan</td><td>nan</td><td>nan</td><td>nan</td><td>nan</td><td>nan</td><td>nan</td><td>None</td><td>nan</td><td>APOGEE</td><td>ops_sky_apogee_best</td></tr>\n",
       "<tr><td>20315</td><td>4801</td><td>39</td><td>dark_monit</td><td>1.0.4</td><td>2021-12-03</td><td>4801</td><td>20833</td><td>134.78102189781</td><td>51.7397200522867</td><td>0.0</td><td>42</td><td>0</td><td>105</td><td>27021603095760894</td><td>52.40545533567786</td><td>2015.5</td><td>nan</td><td>nan</td><td>133.1730657696323</td><td>nan</td><td>nan</td><td>nan</td><td>nan</td><td>nan</td><td>nan</td><td>nan</td><td>nan</td><td>nan</td><td>nan</td><td>nan</td><td>None</td><td>nan</td><td>APOGEE</td><td>ops_sky_apogee_best</td></tr>\n",
       "</table>"
      ],
      "text/plain": [
       "<Table length=505284>\n",
       "design_id field exposure ... carton_to_target label         carton      \n",
       "  int64   int64  int64   ...     float64      bytes6       bytes27      \n",
       "--------- ----- -------- ... ---------------- ------ -------------------\n",
       "       73    80        0 ...              nan APOGEE        ops_sky_boss\n",
       "       73    80        0 ...              nan APOGEE        ops_sky_boss\n",
       "       73    80        0 ...              nan APOGEE        ops_sky_boss\n",
       "       73    80        0 ...              nan APOGEE        ops_sky_boss\n",
       "       73    80        0 ...              nan APOGEE        ops_sky_boss\n",
       "       73    80        0 ...              nan APOGEE        ops_sky_boss\n",
       "       73    80        0 ...              nan APOGEE        ops_sky_boss\n",
       "       73    80        0 ...              nan APOGEE        ops_sky_boss\n",
       "       73    80        0 ...              nan APOGEE        ops_sky_boss\n",
       "       73    80        0 ...              nan APOGEE        ops_sky_boss\n",
       "      ...   ...      ... ...              ...    ...                 ...\n",
       "    20315  4801       39 ...              nan APOGEE ops_sky_apogee_best\n",
       "    20315  4801       39 ...              nan APOGEE ops_sky_apogee_best\n",
       "    20315  4801       39 ...              nan APOGEE ops_sky_apogee_best\n",
       "    20315  4801       39 ...              nan APOGEE ops_sky_apogee_best\n",
       "    20315  4801       39 ...              nan APOGEE ops_sky_apogee_best\n",
       "    20315  4801       39 ...              nan APOGEE ops_sky_apogee_best\n",
       "    20315  4801       39 ...              nan APOGEE ops_sky_apogee_best\n",
       "    20315  4801       39 ...              nan APOGEE ops_sky_apogee_best\n",
       "    20315  4801       39 ...              nan APOGEE ops_sky_apogee_best\n",
       "    20315  4801       39 ...              nan APOGEE ops_sky_apogee_best"
      ]
     },
     "execution_count": 9,
     "metadata": {},
     "output_type": "execute_result"
    }
   ],
   "source": [
    "detail_tab = Table.read('teff-lt-6000_designDetail.fits')\n",
    "detail_tab"
   ]
  },
  {
   "cell_type": "code",
   "execution_count": 10,
   "id": "great-emergency",
   "metadata": {},
   "outputs": [
    {
     "data": {
      "text/html": [
       "<i>Table length=4442</i>\n",
       "<table id=\"table139684746672400\" class=\"table-striped table-bordered table-condensed\">\n",
       "<thead><tr><th>design_id</th><th>field</th><th>exposure</th><th>design_mode</th><th>mugatu_version</th><th>run_on</th><th>pk</th><th>field_id</th><th>racen</th><th>deccen</th><th>position_angle</th><th>cadence</th><th>observatory</th><th>version</th><th>catalogid</th><th>dec</th><th>epoch</th><th>pmdec</th><th>pmra</th><th>ra</th><th>parallax</th><th>bp</th><th>g</th><th>h</th><th>i</th><th>z</th><th>r</th><th>rp</th><th>gaia_g</th><th>j</th><th>k</th><th>optical_prov</th><th>carton_to_target</th><th>label</th><th>carton</th></tr></thead>\n",
       "<thead><tr><th>int64</th><th>int64</th><th>int64</th><th>bytes15</th><th>bytes5</th><th>bytes10</th><th>int64</th><th>int64</th><th>float64</th><th>float64</th><th>float64</th><th>int64</th><th>int64</th><th>int64</th><th>int64</th><th>float64</th><th>float64</th><th>float64</th><th>float64</th><th>float64</th><th>float64</th><th>float64</th><th>float64</th><th>float64</th><th>float64</th><th>float64</th><th>float64</th><th>float64</th><th>float64</th><th>float64</th><th>float64</th><th>bytes26</th><th>float64</th><th>bytes6</th><th>bytes27</th></tr></thead>\n",
       "<tr><td>12780</td><td>3052</td><td>0</td><td>bright_time</td><td>1.0.4</td><td>2021-12-03</td><td>3052</td><td>19084</td><td>126.393242406942</td><td>43.404467063129</td><td>24.740524</td><td>661</td><td>0</td><td>105</td><td>27021597920011983</td><td>43.639797656162926</td><td>2015.5</td><td>-0.832874</td><td>-4.58721</td><td>125.97706084546586</td><td>0.72752</td><td>16.29005</td><td>16.18859</td><td>14.375</td><td>15.39281</td><td>15.489831</td><td>15.798201</td><td>15.195149</td><td>15.827515</td><td>14.862</td><td>14.422</td><td>sdss_psfmag_from_csc</td><td>541404611.0</td><td>BOSS</td><td>bhm_csc_boss_bright</td></tr>\n",
       "<tr><td>12780</td><td>3052</td><td>0</td><td>bright_time</td><td>1.0.4</td><td>2021-12-03</td><td>3052</td><td>19084</td><td>126.393242406942</td><td>43.404467063129</td><td>24.740524</td><td>661</td><td>0</td><td>105</td><td>27021597920012393</td><td>43.6224932588852</td><td>2015.5</td><td>nan</td><td>nan</td><td>126.054819021414</td><td>nan</td><td>nan</td><td>18.156498</td><td>15.471</td><td>17.856194</td><td>17.884903</td><td>17.783726</td><td>nan</td><td>19.175837</td><td>15.978</td><td>14.735</td><td>sdss_psfmag_from_csc</td><td>541404612.0</td><td>BOSS</td><td>bhm_csc_boss_bright</td></tr>\n",
       "<tr><td>12780</td><td>3052</td><td>0</td><td>bright_time</td><td>1.0.4</td><td>2021-12-03</td><td>3052</td><td>19084</td><td>126.393242406942</td><td>43.404467063129</td><td>24.740524</td><td>661</td><td>0</td><td>105</td><td>27021597920074584</td><td>42.96310592097383</td><td>2015.5</td><td>-1.167</td><td>-0.0191511</td><td>124.7940889975821</td><td>0.0345864</td><td>15.613192</td><td>16.258123</td><td>8.945</td><td>12.610172</td><td>11.561849</td><td>14.646992</td><td>12.0390625</td><td>13.422412</td><td>9.857</td><td>8.597</td><td>sdss_psfmag</td><td>473952671.0</td><td>APOGEE</td><td>mwm_galactic_core</td></tr>\n",
       "<tr><td>12780</td><td>3052</td><td>0</td><td>bright_time</td><td>1.0.4</td><td>2021-12-03</td><td>3052</td><td>19084</td><td>126.393242406942</td><td>43.404467063129</td><td>24.740524</td><td>661</td><td>0</td><td>105</td><td>27021599488775281</td><td>42.988801298607825</td><td>2015.5</td><td>-38.95</td><td>15.92</td><td>126.10106670587993</td><td>nan</td><td>nan</td><td>11.29599</td><td>9.401</td><td>10.626916</td><td>10.995631</td><td>10.768576</td><td>nan</td><td>nan</td><td>9.729</td><td>9.338</td><td>sdss_psfmag</td><td>479058203.0</td><td>APOGEE</td><td>mwm_galactic_core</td></tr>\n",
       "<tr><td>12780</td><td>3052</td><td>0</td><td>bright_time</td><td>1.0.4</td><td>2021-12-03</td><td>3052</td><td>19084</td><td>126.393242406942</td><td>43.404467063129</td><td>24.740524</td><td>661</td><td>0</td><td>105</td><td>27021597920124731</td><td>43.34309579156566</td><td>2015.5</td><td>14.8843</td><td>9.28793</td><td>127.71619063911224</td><td>nan</td><td>15.345653</td><td>15.947467</td><td>10.792</td><td>13.320891</td><td>nan</td><td>14.460939</td><td>12.898236</td><td>14.067732</td><td>11.367</td><td>10.533</td><td>sdss_psfmag</td><td>497016535.0</td><td>APOGEE</td><td>mwm_snc_100pc_apogee</td></tr>\n",
       "<tr><td>12780</td><td>3052</td><td>0</td><td>bright_time</td><td>1.0.4</td><td>2021-12-03</td><td>3052</td><td>19084</td><td>126.393242406942</td><td>43.404467063129</td><td>24.740524</td><td>661</td><td>0</td><td>105</td><td>27021597920125224</td><td>43.205600791719036</td><td>2015.5</td><td>-17.1087</td><td>-132.58</td><td>127.62647081167079</td><td>13.2893</td><td>15.008599</td><td>15.593111</td><td>10.504</td><td>13.04619</td><td>nan</td><td>14.148439</td><td>12.637184</td><td>13.74535</td><td>11.144</td><td>10.281</td><td>sdss_psfmag</td><td>497016537.0</td><td>APOGEE</td><td>mwm_snc_100pc_apogee</td></tr>\n",
       "<tr><td>12780</td><td>3052</td><td>0</td><td>bright_time</td><td>1.0.4</td><td>2021-12-03</td><td>3052</td><td>19084</td><td>126.393242406942</td><td>43.404467063129</td><td>24.740524</td><td>661</td><td>0</td><td>105</td><td>27021597920125588</td><td>43.45759441447871</td><td>2015.5</td><td>-60.37</td><td>-29.31</td><td>126.7087892082817</td><td>nan</td><td>14.77618</td><td>15.40934</td><td>10.44</td><td>12.906922</td><td>nan</td><td>13.927421</td><td>12.509611</td><td>13.856598</td><td>11.04</td><td>10.201</td><td>sdss_psfmag</td><td>497016548.0</td><td>APOGEE</td><td>mwm_snc_100pc_apogee</td></tr>\n",
       "<tr><td>12780</td><td>3052</td><td>0</td><td>bright_time</td><td>1.0.4</td><td>2021-12-03</td><td>3052</td><td>19084</td><td>126.393242406942</td><td>43.404467063129</td><td>24.740524</td><td>661</td><td>0</td><td>105</td><td>27021597920181283</td><td>42.10843119028469</td><td>2015.5</td><td>-18.4912</td><td>-6.31681</td><td>126.47624168165383</td><td>18.0992</td><td>13.64866</td><td>14.225892</td><td>9.494</td><td>13.439476</td><td>nan</td><td>12.79418</td><td>11.495725</td><td>12.5325365</td><td>10.124</td><td>9.272</td><td>sdss_psfmag</td><td>497016614.0</td><td>APOGEE</td><td>mwm_snc_100pc_apogee</td></tr>\n",
       "<tr><td>12780</td><td>3052</td><td>0</td><td>bright_time</td><td>1.0.4</td><td>2021-12-03</td><td>3052</td><td>19084</td><td>126.393242406942</td><td>43.404467063129</td><td>24.740524</td><td>661</td><td>0</td><td>105</td><td>27021597920011982</td><td>43.66176081083393</td><td>2015.5</td><td>-51.836</td><td>-27.3391</td><td>126.00120619932957</td><td>12.9807</td><td>12.300461</td><td>12.648243</td><td>9.174</td><td>11.121874</td><td>nan</td><td>11.5654955</td><td>10.780996</td><td>11.5745</td><td>9.77</td><td>9.036</td><td>sdss_psfmag_gaia</td><td>497069781.0</td><td>APOGEE</td><td>mwm_snc_100pc_apogee</td></tr>\n",
       "<tr><td>12780</td><td>3052</td><td>0</td><td>bright_time</td><td>1.0.4</td><td>2021-12-03</td><td>3052</td><td>19084</td><td>126.393242406942</td><td>43.404467063129</td><td>24.740524</td><td>661</td><td>0</td><td>105</td><td>27021597920004155</td><td>44.56029019450052</td><td>2015.5</td><td>19.7675</td><td>9.26518</td><td>126.17598467011871</td><td>nan</td><td>14.9872465</td><td>15.535774</td><td>9.948</td><td>12.698651</td><td>nan</td><td>14.093594</td><td>12.225556</td><td>13.442416</td><td>10.519</td><td>9.676</td><td>sdss_psfmag</td><td>497016356.0</td><td>APOGEE</td><td>mwm_snc_100pc_apogee</td></tr>\n",
       "<tr><td>...</td><td>...</td><td>...</td><td>...</td><td>...</td><td>...</td><td>...</td><td>...</td><td>...</td><td>...</td><td>...</td><td>...</td><td>...</td><td>...</td><td>...</td><td>...</td><td>...</td><td>...</td><td>...</td><td>...</td><td>...</td><td>...</td><td>...</td><td>...</td><td>...</td><td>...</td><td>...</td><td>...</td><td>...</td><td>...</td><td>...</td><td>...</td><td>...</td><td>...</td><td>...</td></tr>\n",
       "<tr><td>13467</td><td>3257</td><td>0</td><td>bright_time</td><td>1.0.4</td><td>2021-12-03</td><td>3257</td><td>19289</td><td>147.253618849811</td><td>45.96077640272</td><td>36.5802</td><td>661</td><td>0</td><td>105</td><td>27021603092246110</td><td>46.08121721612102</td><td>2015.5</td><td>nan</td><td>nan</td><td>146.28035982008996</td><td>nan</td><td>nan</td><td>nan</td><td>nan</td><td>nan</td><td>nan</td><td>nan</td><td>nan</td><td>nan</td><td>nan</td><td>nan</td><td>None</td><td>nan</td><td>APOGEE</td><td>ops_sky_apogee_best</td></tr>\n",
       "<tr><td>13467</td><td>3257</td><td>0</td><td>bright_time</td><td>1.0.4</td><td>2021-12-03</td><td>3257</td><td>19289</td><td>147.253618849811</td><td>45.96077640272</td><td>36.5802</td><td>661</td><td>0</td><td>105</td><td>27021603092246291</td><td>46.39968434904888</td><td>2015.5</td><td>nan</td><td>nan</td><td>146.544384057971</td><td>nan</td><td>nan</td><td>nan</td><td>nan</td><td>nan</td><td>nan</td><td>nan</td><td>nan</td><td>nan</td><td>nan</td><td>nan</td><td>None</td><td>nan</td><td>APOGEE</td><td>ops_sky_apogee_best</td></tr>\n",
       "<tr><td>13467</td><td>3257</td><td>0</td><td>bright_time</td><td>1.0.4</td><td>2021-12-03</td><td>3257</td><td>19289</td><td>147.253618849811</td><td>45.96077640272</td><td>36.5802</td><td>661</td><td>0</td><td>105</td><td>27021603092246296</td><td>46.35970313948401</td><td>2015.5</td><td>nan</td><td>nan</td><td>146.42873902259166</td><td>nan</td><td>nan</td><td>nan</td><td>nan</td><td>nan</td><td>nan</td><td>nan</td><td>nan</td><td>nan</td><td>nan</td><td>nan</td><td>None</td><td>nan</td><td>APOGEE</td><td>ops_sky_apogee_best</td></tr>\n",
       "<tr><td>13467</td><td>3257</td><td>0</td><td>bright_time</td><td>1.0.4</td><td>2021-12-03</td><td>3257</td><td>19289</td><td>147.253618849811</td><td>45.96077640272</td><td>36.5802</td><td>661</td><td>0</td><td>105</td><td>27021603092246381</td><td>46.378156699104245</td><td>2015.5</td><td>nan</td><td>nan</td><td>147.1606532090403</td><td>nan</td><td>nan</td><td>nan</td><td>nan</td><td>nan</td><td>nan</td><td>nan</td><td>nan</td><td>nan</td><td>nan</td><td>nan</td><td>None</td><td>nan</td><td>APOGEE</td><td>ops_sky_apogee_best</td></tr>\n",
       "<tr><td>13467</td><td>3257</td><td>0</td><td>bright_time</td><td>1.0.4</td><td>2021-12-03</td><td>3257</td><td>19289</td><td>147.253618849811</td><td>45.96077640272</td><td>36.5802</td><td>661</td><td>0</td><td>105</td><td>27021603092246729</td><td>46.627163651097405</td><td>2015.5</td><td>nan</td><td>nan</td><td>147.07535401213758</td><td>nan</td><td>nan</td><td>nan</td><td>nan</td><td>nan</td><td>nan</td><td>nan</td><td>nan</td><td>nan</td><td>nan</td><td>nan</td><td>None</td><td>nan</td><td>APOGEE</td><td>ops_sky_apogee_best</td></tr>\n",
       "<tr><td>13467</td><td>3257</td><td>0</td><td>bright_time</td><td>1.0.4</td><td>2021-12-03</td><td>3257</td><td>19289</td><td>147.253618849811</td><td>45.96077640272</td><td>36.5802</td><td>661</td><td>0</td><td>105</td><td>27021603092247035</td><td>46.650208948910866</td><td>2015.5</td><td>nan</td><td>nan</td><td>146.5547309833024</td><td>nan</td><td>nan</td><td>nan</td><td>nan</td><td>nan</td><td>nan</td><td>nan</td><td>nan</td><td>nan</td><td>nan</td><td>nan</td><td>None</td><td>nan</td><td>APOGEE</td><td>ops_sky_apogee_best</td></tr>\n",
       "<tr><td>13467</td><td>3257</td><td>0</td><td>bright_time</td><td>1.0.4</td><td>2021-12-03</td><td>3257</td><td>19289</td><td>147.253618849811</td><td>45.96077640272</td><td>36.5802</td><td>661</td><td>0</td><td>105</td><td>27021603092247104</td><td>46.73622846486268</td><td>2015.5</td><td>nan</td><td>nan</td><td>146.46405758896887</td><td>nan</td><td>nan</td><td>nan</td><td>nan</td><td>nan</td><td>nan</td><td>nan</td><td>nan</td><td>nan</td><td>nan</td><td>nan</td><td>None</td><td>nan</td><td>APOGEE</td><td>ops_sky_apogee_best</td></tr>\n",
       "<tr><td>13467</td><td>3257</td><td>0</td><td>bright_time</td><td>1.0.4</td><td>2021-12-03</td><td>3257</td><td>19289</td><td>147.253618849811</td><td>45.96077640272</td><td>36.5802</td><td>661</td><td>0</td><td>105</td><td>27021603092248367</td><td>47.26254205637319</td><td>2015.5</td><td>nan</td><td>nan</td><td>147.6986596457635</td><td>nan</td><td>nan</td><td>nan</td><td>nan</td><td>nan</td><td>nan</td><td>nan</td><td>nan</td><td>nan</td><td>nan</td><td>nan</td><td>None</td><td>nan</td><td>APOGEE</td><td>ops_sky_apogee_best</td></tr>\n",
       "<tr><td>13467</td><td>3257</td><td>0</td><td>bright_time</td><td>1.0.4</td><td>2021-12-03</td><td>3257</td><td>19289</td><td>147.253618849811</td><td>45.96077640272</td><td>36.5802</td><td>661</td><td>0</td><td>105</td><td>27021603092248271</td><td>47.06317658331269</td><td>2015.5</td><td>nan</td><td>nan</td><td>147.578125</td><td>nan</td><td>nan</td><td>nan</td><td>nan</td><td>nan</td><td>nan</td><td>nan</td><td>nan</td><td>nan</td><td>nan</td><td>nan</td><td>None</td><td>nan</td><td>APOGEE</td><td>ops_sky_apogee_best</td></tr>\n",
       "<tr><td>13467</td><td>3257</td><td>0</td><td>bright_time</td><td>1.0.4</td><td>2021-12-03</td><td>3257</td><td>19289</td><td>147.253618849811</td><td>45.96077640272</td><td>36.5802</td><td>661</td><td>0</td><td>105</td><td>27021603092300862</td><td>46.659426552246565</td><td>2015.5</td><td>nan</td><td>nan</td><td>145.89510442322614</td><td>nan</td><td>nan</td><td>nan</td><td>nan</td><td>nan</td><td>nan</td><td>nan</td><td>nan</td><td>nan</td><td>nan</td><td>nan</td><td>None</td><td>nan</td><td>APOGEE</td><td>ops_sky_apogee_best</td></tr>\n",
       "</table>"
      ],
      "text/plain": [
       "<Table length=4442>\n",
       "design_id field exposure ... carton_to_target label         carton       \n",
       "  int64   int64  int64   ...     float64      bytes6       bytes27       \n",
       "--------- ----- -------- ... ---------------- ------ --------------------\n",
       "    12780  3052        0 ...      541404611.0   BOSS  bhm_csc_boss_bright\n",
       "    12780  3052        0 ...      541404612.0   BOSS  bhm_csc_boss_bright\n",
       "    12780  3052        0 ...      473952671.0 APOGEE    mwm_galactic_core\n",
       "    12780  3052        0 ...      479058203.0 APOGEE    mwm_galactic_core\n",
       "    12780  3052        0 ...      497016535.0 APOGEE mwm_snc_100pc_apogee\n",
       "    12780  3052        0 ...      497016537.0 APOGEE mwm_snc_100pc_apogee\n",
       "    12780  3052        0 ...      497016548.0 APOGEE mwm_snc_100pc_apogee\n",
       "    12780  3052        0 ...      497016614.0 APOGEE mwm_snc_100pc_apogee\n",
       "    12780  3052        0 ...      497069781.0 APOGEE mwm_snc_100pc_apogee\n",
       "    12780  3052        0 ...      497016356.0 APOGEE mwm_snc_100pc_apogee\n",
       "      ...   ...      ... ...              ...    ...                  ...\n",
       "    13467  3257        0 ...              nan APOGEE  ops_sky_apogee_best\n",
       "    13467  3257        0 ...              nan APOGEE  ops_sky_apogee_best\n",
       "    13467  3257        0 ...              nan APOGEE  ops_sky_apogee_best\n",
       "    13467  3257        0 ...              nan APOGEE  ops_sky_apogee_best\n",
       "    13467  3257        0 ...              nan APOGEE  ops_sky_apogee_best\n",
       "    13467  3257        0 ...              nan APOGEE  ops_sky_apogee_best\n",
       "    13467  3257        0 ...              nan APOGEE  ops_sky_apogee_best\n",
       "    13467  3257        0 ...              nan APOGEE  ops_sky_apogee_best\n",
       "    13467  3257        0 ...              nan APOGEE  ops_sky_apogee_best\n",
       "    13467  3257        0 ...              nan APOGEE  ops_sky_apogee_best"
      ]
     },
     "execution_count": 10,
     "metadata": {},
     "output_type": "execute_result"
    }
   ],
   "source": [
    "mask = np.isin(detail_tab['design_id'],best_tab['design_id'])\n",
    "best_detail_tab = detail_tab[mask]\n",
    "best_detail_tab"
   ]
  },
  {
   "cell_type": "code",
   "execution_count": 11,
   "id": "broken-newcastle",
   "metadata": {},
   "outputs": [
    {
     "data": {
      "text/html": [
       "&lt;Column name=&apos;design_id&apos; dtype=&apos;int64&apos; length=9&gt;\n",
       "<table>\n",
       "<tr><td>12780</td></tr>\n",
       "<tr><td>12781</td></tr>\n",
       "<tr><td>12787</td></tr>\n",
       "<tr><td>12788</td></tr>\n",
       "<tr><td>12798</td></tr>\n",
       "<tr><td>12853</td></tr>\n",
       "<tr><td>12875</td></tr>\n",
       "<tr><td>13135</td></tr>\n",
       "<tr><td>13467</td></tr>\n",
       "</table>"
      ],
      "text/plain": [
       "<Column name='design_id' dtype='int64' length=9>\n",
       "12780\n",
       "12781\n",
       "12787\n",
       "12788\n",
       "12798\n",
       "12853\n",
       "12875\n",
       "13135\n",
       "13467"
      ]
     },
     "execution_count": 11,
     "metadata": {},
     "output_type": "execute_result"
    }
   ],
   "source": [
    "np.unique(best_detail_tab['design_id'])"
   ]
  },
  {
   "cell_type": "code",
   "execution_count": 12,
   "id": "hired-ethnic",
   "metadata": {},
   "outputs": [],
   "source": [
    "best_detail_tab.write('best_field_detailed_targets_cool_star.fits')"
   ]
  },
  {
   "cell_type": "code",
   "execution_count": null,
   "id": "impressed-century",
   "metadata": {},
   "outputs": [],
   "source": []
  }
 ],
 "metadata": {
  "kernelspec": {
   "display_name": "Python 3",
   "language": "python",
   "name": "python3"
  },
  "language_info": {
   "codemirror_mode": {
    "name": "ipython",
    "version": 3
   },
   "file_extension": ".py",
   "mimetype": "text/x-python",
   "name": "python",
   "nbconvert_exporter": "python",
   "pygments_lexer": "ipython3",
   "version": "3.7.10"
  }
 },
 "nbformat": 4,
 "nbformat_minor": 5
}
